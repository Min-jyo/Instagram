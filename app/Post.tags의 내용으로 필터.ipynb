{
 "cells": [
  {
   "cell_type": "code",
   "execution_count": 1,
   "metadata": {},
   "outputs": [
    {
     "data": {
      "text/plain": [
       "<QuerySet [<Post: lhy | 2020-01-07 09:13:24.932808+00:00>, <Post: lhy | 2020-01-07 09:13:29.234799+00:00>, <Post: lhy2 | 2020-01-08 06:42:34.992773+00:00>, <Post: lhy | 2020-01-08 07:04:30.077261+00:00>, <Post: lhy | 2020-01-08 07:08:48.992581+00:00>, <Post: lhy | 2020-01-08 08:10:44.676264+00:00>, <Post: lhy | 2020-01-08 08:22:14.156422+00:00>, <Post: lhy5 | 2020-01-08 08:23:47.272392+00:00>, <Post: lhy | 2020-01-14 09:00:57.272332+00:00>]>"
      ]
     },
     "execution_count": 1,
     "metadata": {},
     "output_type": "execute_result"
    }
   ],
   "source": [
    "Post.objects.all()"
   ]
  },
  {
   "cell_type": "code",
   "execution_count": 2,
   "metadata": {},
   "outputs": [
    {
     "data": {
      "text/plain": [
       "<QuerySet [<Tag: ParkBoYoung>, <Tag: 박보영>, <Tag: 뽀블리>, <Tag: Django>, <Tag: Python>, <Tag: WPS>, <Tag: CGV>, <Tag: 화보>]>"
      ]
     },
     "execution_count": 2,
     "metadata": {},
     "output_type": "execute_result"
    }
   ],
   "source": [
    "Tag.objects.all()"
   ]
  },
  {
   "cell_type": "code",
   "execution_count": 7,
   "metadata": {},
   "outputs": [
    {
     "name": "stdout",
     "output_type": "stream",
     "text": [
      "ParkBoYoung: 10, 11\n",
      "박보영: 10, 11\n",
      "뽀블리: \n",
      "Django: 1\n",
      "Python: 1\n",
      "WPS: \n",
      "CGV: 10, 11\n",
      "화보: 10\n",
      "django: 12\n",
      "DjAnGo: 13\n"
     ]
    }
   ],
   "source": [
    "for tag in Tag.objects.all():\n",
    "    result = '{tag}: {posts}'.format(\n",
    "        tag=tag.name,\n",
    "        posts=', '.join([str(post.pk) for post in tag.posts.all()]),\n",
    "    )\n",
    "    print(result)"
   ]
  },
  {
   "cell_type": "code",
   "execution_count": 12,
   "metadata": {},
   "outputs": [
    {
     "data": {
      "text/plain": [
       "<QuerySet [{'pk': 1}, {'pk': 12}, {'pk': 13}]>"
      ]
     },
     "execution_count": 12,
     "metadata": {},
     "output_type": "execute_result"
    }
   ],
   "source": [
    "# 박보영 이라는 name을 가진 Tag를 자신의 tags목록에 갖고있는 경우인 Post\n",
    "# filter의 조건(키워드)명으로\n",
    "#  ManyToMany등, RelatedField의 Forward연결이라면, 해당 필드명 사용\n",
    "#  Backward의 경우\n",
    "#   related_name이 지정되어있다면, 사용\n",
    "#   related_name이 지정되어있지 않다면, 연결되는 모델의 lowercase문자열 (_set이 안붙음)\n",
    "#    -> related_query_name\n",
    "\n",
    "# Django\n",
    "# django / DJANGO\n",
    "Post.objects.filter(tags__name__iexact='Django').values('pk')"
   ]
  },
  {
   "cell_type": "code",
   "execution_count": null,
   "metadata": {},
   "outputs": [],
   "source": [
    "# 7. 각각의 Post에 댓글이 몇 개 달렸는지 QuerySet.values()로 꺼내보기\n",
    "#    Django annotate / aggregate\n",
    "#    QuerySetAPI의 Aggregation functions의 Count()를 사용해야 함\n",
    "#    -> QuerySet.count()와 다릅니다\n",
    "#   Post.objects.annotate(<무언가>).values(<왼쪽에서한걸활용>)\n",
    "# 8. 위 기능에 성공했다면, 댓글이 3개 이상인 Post목록만 가져오기\n",
    "#   Post.objects.annotate(<무언가>).filter(<왼쪽에서한걸활용>)\n",
    "# 9. 위 기능에 성공했다면, 댓글이 3개 이상이며 댓글개수가 좋아요개수보다 많은 Post목록만 가져오기\n",
    "#   Post.objects.annotate(<무언가>).filter(<왼쪽에서한걸활용>)"
   ]
  },
  {
   "cell_type": "code",
   "execution_count": 3,
   "metadata": {},
   "outputs": [
    {
     "data": {
      "text/plain": [
       "<QuerySet [7, 13, 8, 15, 19, 26, 24]>"
      ]
     },
     "execution_count": 3,
     "metadata": {},
     "output_type": "execute_result"
    }
   ],
   "source": [
    "Post.objects.annotate(comment_count=Count('postcomment')).filter(comment_count__gte=3).values_list('pk', flat=True)"
   ]
  },
  {
   "cell_type": "code",
   "execution_count": 5,
   "metadata": {},
   "outputs": [
    {
     "ename": "NameError",
     "evalue": "name 'postlike_count' is not defined",
     "output_type": "error",
     "traceback": [
      "\u001b[0;31m---------------------------------------------------------------------------\u001b[0m",
      "\u001b[0;31mNameError\u001b[0m                                 Traceback (most recent call last)",
      "\u001b[0;32m<ipython-input-5-70cc31127e5d>\u001b[0m in \u001b[0;36m<module>\u001b[0;34m\u001b[0m\n\u001b[0;32m----> 1\u001b[0;31m \u001b[0mPost\u001b[0m\u001b[0;34m.\u001b[0m\u001b[0mobjects\u001b[0m\u001b[0;34m.\u001b[0m\u001b[0mannotate\u001b[0m\u001b[0;34m(\u001b[0m\u001b[0mcomment_count\u001b[0m\u001b[0;34m=\u001b[0m\u001b[0mCount\u001b[0m\u001b[0;34m(\u001b[0m\u001b[0;34m'postcomment'\u001b[0m\u001b[0;34m)\u001b[0m\u001b[0;34m)\u001b[0m\u001b[0;34m.\u001b[0m\u001b[0mannotate\u001b[0m\u001b[0;34m(\u001b[0m\u001b[0mpostlike_count\u001b[0m\u001b[0;34m(\u001b[0m\u001b[0;34m'postlike'\u001b[0m\u001b[0;34m)\u001b[0m\u001b[0;34m)\u001b[0m\u001b[0;34m.\u001b[0m\u001b[0mfilter\u001b[0m\u001b[0;34m(\u001b[0m\u001b[0mcomment_count__gte\u001b[0m\u001b[0;34m=\u001b[0m\u001b[0;36m3\u001b[0m\u001b[0;34m)\u001b[0m\u001b[0;34m\u001b[0m\u001b[0;34m\u001b[0m\u001b[0m\n\u001b[0m",
      "\u001b[0;31mNameError\u001b[0m: name 'postlike_count' is not defined"
     ]
    }
   ],
   "source": [
    "Post.objects.annotate(comment_count=Count('postcomment')).annotate(postlike_count('postlike')).filter(comment_count__gte=3)"
   ]
  },
  {
   "cell_type": "code",
   "execution_count": null,
   "metadata": {},
   "outputs": [],
   "source": []
  }
 ],
 "metadata": {
  "kernelspec": {
   "display_name": "Django Shell-Plus",
   "language": "python",
   "name": "django_extensions"
  },
  "language_info": {
   "codemirror_mode": {
    "name": "ipython",
    "version": 3
   },
   "file_extension": ".py",
   "mimetype": "text/x-python",
   "name": "python",
   "nbconvert_exporter": "python",
   "pygments_lexer": "ipython3",
   "version": "3.7.5"
  }
 },
 "nbformat": 4,
 "nbformat_minor": 4
}
