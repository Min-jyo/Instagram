{
 "cells": [
  {
   "cell_type": "code",
   "execution_count": 1,
   "metadata": {},
   "outputs": [
    {
     "data": {
      "text/plain": [
       "<QuerySet [<Post: lhy | 2020-01-07 09:13:24.932808+00:00>, <Post: lhy | 2020-01-07 09:13:29.234799+00:00>, <Post: lhy2 | 2020-01-08 06:42:34.992773+00:00>, <Post: lhy | 2020-01-08 07:04:30.077261+00:00>, <Post: lhy | 2020-01-08 07:08:48.992581+00:00>, <Post: lhy | 2020-01-08 08:10:44.676264+00:00>, <Post: lhy | 2020-01-08 08:22:14.156422+00:00>, <Post: lhy5 | 2020-01-08 08:23:47.272392+00:00>, <Post: lhy | 2020-01-14 09:00:57.272332+00:00>]>"
      ]
     },
     "execution_count": 1,
     "metadata": {},
     "output_type": "execute_result"
    }
   ],
   "source": [
    "Post.objects.all()"
   ]
  },
  {
   "cell_type": "code",
   "execution_count": 2,
   "metadata": {},
   "outputs": [
    {
     "data": {
      "text/plain": [
       "<QuerySet [<Tag: ParkBoYoung>, <Tag: 박보영>, <Tag: 뽀블리>, <Tag: Django>, <Tag: Python>, <Tag: WPS>, <Tag: CGV>, <Tag: 화보>]>"
      ]
     },
     "execution_count": 2,
     "metadata": {},
     "output_type": "execute_result"
    }
   ],
   "source": [
    "Tag.objects.all()"
   ]
  },
  {
   "cell_type": "code",
   "execution_count": 7,
   "metadata": {},
   "outputs": [
    {
     "name": "stdout",
     "output_type": "stream",
     "text": [
      "ParkBoYoung: 10, 11\n",
      "박보영: 10, 11\n",
      "뽀블리: \n",
      "Django: 1\n",
      "Python: 1\n",
      "WPS: \n",
      "CGV: 10, 11\n",
      "화보: 10\n",
      "django: 12\n",
      "DjAnGo: 13\n"
     ]
    }
   ],
   "source": [
    "for tag in Tag.objects.all():\n",
    "    result = '{tag}: {posts}'.format(\n",
    "        tag=tag.name,\n",
    "        posts=', '.join([str(post.pk) for post in tag.posts.all()]),\n",
    "    )\n",
    "    print(result)"
   ]
  },
  {
   "cell_type": "code",
   "execution_count": 12,
   "metadata": {},
   "outputs": [
    {
     "data": {
      "text/plain": [
       "<QuerySet [{'pk': 1}, {'pk': 12}, {'pk': 13}]>"
      ]
     },
     "execution_count": 12,
     "metadata": {},
     "output_type": "execute_result"
    }
   ],
   "source": [
    "# 박보영 이라는 name을 가진 Tag를 자신의 tags목록에 갖고있는 경우인 Post\n",
    "# filter의 조건(키워드)명으로\n",
    "#  ManyToMany등, RelatedField의 Forward연결이라면, 해당 필드명 사용\n",
    "#  Backward의 경우\n",
    "#   related_name이 지정되어있다면, 사용\n",
    "#   related_name이 지정되어있지 않다면, 연결되는 모델의 lowercase문자열 (_set이 안붙음)\n",
    "#    -> related_query_name\n",
    "\n",
    "# Django\n",
    "# django / DJANGO\n",
    "Post.objects.filter(tags__name__iexact='Django').values('pk')"
   ]
  },
  {
   "cell_type": "code",
   "execution_count": null,
   "metadata": {},
   "outputs": [],
   "source": []
  }
 ],
 "metadata": {
  "kernelspec": {
   "display_name": "Django Shell-Plus",
   "language": "python",
   "name": "django_extensions"
  },
  "language_info": {
   "codemirror_mode": {
    "name": "ipython",
    "version": 3
   },
   "file_extension": ".py",
   "mimetype": "text/x-python",
   "name": "python",
   "nbconvert_exporter": "python",
   "pygments_lexer": "ipython3",
   "version": "3.7.5"
  }
 },
 "nbformat": 4,
 "nbformat_minor": 4
}
