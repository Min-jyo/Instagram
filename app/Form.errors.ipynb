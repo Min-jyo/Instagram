{
 "cells": [
  {
   "cell_type": "code",
   "execution_count": 1,
   "metadata": {},
   "outputs": [],
   "source": [
    "from members.forms import SignupForm"
   ]
  },
  {
   "cell_type": "code",
   "execution_count": 2,
   "metadata": {},
   "outputs": [],
   "source": [
    "data = {\n",
    "    'username': 'lhy',\n",
    "    'password': '1234',\n",
    "    'email': 'dev@lhy.kr',\n",
    "    'name': '이한영',\n",
    "}"
   ]
  },
  {
   "cell_type": "code",
   "execution_count": 3,
   "metadata": {},
   "outputs": [],
   "source": [
    "form = SignupForm(data)"
   ]
  },
  {
   "cell_type": "code",
   "execution_count": 4,
   "metadata": {},
   "outputs": [
    {
     "data": {
      "text/plain": [
       "False"
      ]
     },
     "execution_count": 4,
     "metadata": {},
     "output_type": "execute_result"
    }
   ],
   "source": [
    "form.is_valid()"
   ]
  },
  {
   "cell_type": "code",
   "execution_count": 5,
   "metadata": {},
   "outputs": [
    {
     "data": {
      "text/plain": [
       "{'email': ['이미 사용중인 email입니다'], 'username': ['이미 사용중인 username입니다']}"
      ]
     },
     "execution_count": 5,
     "metadata": {},
     "output_type": "execute_result"
    }
   ],
   "source": [
    "form.errors"
   ]
  },
  {
   "cell_type": "code",
   "execution_count": 7,
   "metadata": {},
   "outputs": [
    {
     "data": {
      "text/plain": [
       "[]"
      ]
     },
     "execution_count": 7,
     "metadata": {},
     "output_type": "execute_result"
    }
   ],
   "source": [
    "form.non_field_errors()"
   ]
  },
  {
   "cell_type": "code",
   "execution_count": 11,
   "metadata": {},
   "outputs": [
    {
     "data": {
      "text/plain": [
       "['이미 사용중인 username입니다']"
      ]
     },
     "execution_count": 11,
     "metadata": {},
     "output_type": "execute_result"
    }
   ],
   "source": [
    "form['username'].errors"
   ]
  },
  {
   "cell_type": "code",
   "execution_count": 12,
   "metadata": {},
   "outputs": [
    {
     "data": {
      "text/plain": [
       "['이미 사용중인 email입니다']"
      ]
     },
     "execution_count": 12,
     "metadata": {},
     "output_type": "execute_result"
    }
   ],
   "source": [
    "form['email'].errors"
   ]
  },
  {
   "cell_type": "code",
   "execution_count": 14,
   "metadata": {},
   "outputs": [
    {
     "name": "stdout",
     "output_type": "stream",
     "text": [
      "<ul class=\"errorlist\"><li>이미 사용중인 email입니다</li></ul>\n",
      "\n",
      "<ul class=\"errorlist\"><li>이미 사용중인 username입니다</li></ul>\n",
      "\n"
     ]
    }
   ],
   "source": [
    "for field in form:\n",
    "    print(field.errors)"
   ]
  },
  {
   "cell_type": "code",
   "execution_count": 15,
   "metadata": {},
   "outputs": [
    {
     "data": {
      "text/plain": [
       "['__class__',\n",
       " '__delattr__',\n",
       " '__dict__',\n",
       " '__dir__',\n",
       " '__doc__',\n",
       " '__eq__',\n",
       " '__format__',\n",
       " '__ge__',\n",
       " '__getattribute__',\n",
       " '__getitem__',\n",
       " '__gt__',\n",
       " '__hash__',\n",
       " '__html__',\n",
       " '__init__',\n",
       " '__init_subclass__',\n",
       " '__iter__',\n",
       " '__le__',\n",
       " '__lt__',\n",
       " '__module__',\n",
       " '__ne__',\n",
       " '__new__',\n",
       " '__reduce__',\n",
       " '__reduce_ex__',\n",
       " '__repr__',\n",
       " '__setattr__',\n",
       " '__sizeof__',\n",
       " '__str__',\n",
       " '__subclasshook__',\n",
       " '__weakref__',\n",
       " '_bound_fields_cache',\n",
       " '_clean_fields',\n",
       " '_clean_form',\n",
       " '_errors',\n",
       " '_html_output',\n",
       " '_post_clean',\n",
       " 'add_error',\n",
       " 'add_initial_prefix',\n",
       " 'add_prefix',\n",
       " 'as_p',\n",
       " 'as_table',\n",
       " 'as_ul',\n",
       " 'auto_id',\n",
       " 'base_fields',\n",
       " 'changed_data',\n",
       " 'clean',\n",
       " 'clean_email',\n",
       " 'clean_username',\n",
       " 'cleaned_data',\n",
       " 'data',\n",
       " 'declared_fields',\n",
       " 'default_renderer',\n",
       " 'empty_permitted',\n",
       " 'error_class',\n",
       " 'errors',\n",
       " 'field_order',\n",
       " 'fields',\n",
       " 'files',\n",
       " 'full_clean',\n",
       " 'get_initial_for_field',\n",
       " 'has_changed',\n",
       " 'has_error',\n",
       " 'hidden_fields',\n",
       " 'initial',\n",
       " 'is_bound',\n",
       " 'is_multipart',\n",
       " 'is_valid',\n",
       " 'label_suffix',\n",
       " 'media',\n",
       " 'non_field_errors',\n",
       " 'order_fields',\n",
       " 'prefix',\n",
       " 'renderer',\n",
       " 'save',\n",
       " 'use_required_attribute',\n",
       " 'visible_fields']"
      ]
     },
     "execution_count": 15,
     "metadata": {},
     "output_type": "execute_result"
    }
   ],
   "source": [
    "dir(form)"
   ]
  },
  {
   "cell_type": "code",
   "execution_count": null,
   "metadata": {},
   "outputs": [],
   "source": []
  }
 ],
 "metadata": {
  "kernelspec": {
   "display_name": "Django Shell-Plus",
   "language": "python",
   "name": "django_extensions"
  },
  "language_info": {
   "codemirror_mode": {
    "name": "ipython",
    "version": 3
   },
   "file_extension": ".py",
   "mimetype": "text/x-python",
   "name": "python",
   "nbconvert_exporter": "python",
   "pygments_lexer": "ipython3",
   "version": "3.7.5"
  }
 },
 "nbformat": 4,
 "nbformat_minor": 4
}
