{
 "cells": [
  {
   "cell_type": "code",
   "execution_count": 1,
   "metadata": {},
   "outputs": [],
   "source": [
    "# 1. Post중에서 자신에게 포함된 Comment들 중에 content속성(column)에 '이한영'이라는 문자열이 들어가는 경우인 Comment가 존재하는 Post목록\n",
    "#    - 일부 Post가 '이한영' 이라는 내용을 포함하는 댓글을 가져야 함\n",
    "# 1-1. Post중에서 태그가 없는 경우인 Post목록\n",
    "# 2. Post중에서 자신에게 포함된 Comment들 중에 Post의 author와 Comment의 author가 다른 경우인 Comment가 존재하는 Post목록\n",
    "#    > 댓글은 존재하나, 작성자가 작성한 댓글은 없는 경우인 Post목록\n",
    "#    - Post작성자 외에 다른 사용자가 댓글을 단 경우가 존재하여야 함\n",
    "#    - Django의 F Expression을 사용 <- 검색\n",
    "# 3. Tag중에서 자신에게 연결된 Post의 author의 pk가 1인 경우인 Tag목록\n",
    "#    - 없다면 author의 pk를 바꿔본다\n",
    "# 4. Post중에서 자신의 좋아요(PostLike)가 존재하는 Post목록\n",
    "#    - Field lookup의 'isnull' 항목 참조\n",
    "# 5. Comment중에서 자신의 Post의 좋아요가 존재하는 Comment목록\n",
    "#    - Field lookup의 'isnull' 항목 참조 (위와 같음)\n",
    "# 6. Comment중에서 자신의 Post에 속하는 가장 최근 PostLike가 1주일 이내인 Comment목록\n",
    "#    - from django.utils import timezone\n",
    "#    - 현재시간은 timezone.now()로 가져올 수 있음"
   ]
  },
  {
   "cell_type": "code",
   "execution_count": 1,
   "metadata": {},
   "outputs": [
    {
     "data": {
      "text/plain": [
       "<QuerySet [{'pk': 19}, {'pk': 26}]>"
      ]
     },
     "execution_count": 1,
     "metadata": {},
     "output_type": "execute_result"
    }
   ],
   "source": [
    "Post.objects.filter(\n",
    "    postcomment__content__contains='국밥',\n",
    ").values('pk')"
   ]
  },
  {
   "cell_type": "code",
   "execution_count": 5,
   "metadata": {},
   "outputs": [
    {
     "data": {
      "text/plain": [
       "<QuerySet [25, 24, 23, 22, 21, 19, 16, 15, 8, 7, 6, 5, 4, 3, 2]>"
      ]
     },
     "execution_count": 5,
     "metadata": {},
     "output_type": "execute_result"
    }
   ],
   "source": [
    "Post.objects.filter(\n",
    "    tags__isnull=True,\n",
    ").values_list('pk', flat=True).order_by('-pk')"
   ]
  },
  {
   "cell_type": "code",
   "execution_count": 14,
   "metadata": {},
   "outputs": [
    {
     "data": {
      "text/plain": [
       "<QuerySet [26, 25, 23, 21, 19, 8, 7]>"
      ]
     },
     "execution_count": 14,
     "metadata": {},
     "output_type": "execute_result"
    }
   ],
   "source": [
    "Post.objects.exclude(\n",
    "    postcomment__isnull=True,\n",
    ").exclude(\n",
    "    postcomment__author=F('author'),\n",
    ").values_list('pk', flat=True).order_by('-pk')"
   ]
  },
  {
   "cell_type": "code",
   "execution_count": 21,
   "metadata": {},
   "outputs": [
    {
     "data": {
      "text/plain": [
       "<QuerySet [{'pk': 11, 'posts__pk': 1}, {'pk': 12, 'posts__pk': 1}, {'pk': 8, 'posts__pk': 10}, {'pk': 9, 'posts__pk': 10}, {'pk': 14, 'posts__pk': 10}, {'pk': 15, 'posts__pk': 10}, {'pk': 8, 'posts__pk': 11}, {'pk': 9, 'posts__pk': 11}, {'pk': 14, 'posts__pk': 11}, {'pk': 16, 'posts__pk': 12}, {'pk': 17, 'posts__pk': 13}, {'pk': 9, 'posts__pk': 27}, {'pk': 31, 'posts__pk': 27}, {'pk': 32, 'posts__pk': 28}, {'pk': 33, 'posts__pk': 28}, {'pk': 34, 'posts__pk': 28}, {'pk': 35, 'posts__pk': 28}]>"
      ]
     },
     "execution_count": 21,
     "metadata": {},
     "output_type": "execute_result"
    }
   ],
   "source": [
    "# 3. Tag중에서 자신에게 연결된 Post의 author의 pk가 1인 경우인 Tag목록\n",
    "#    - 없다면 author의 pk를 바꿔본다\n",
    "Tag.objects.filter(\n",
    "    posts__author__pk=1\n",
    ").values('pk', 'posts__pk')"
   ]
  },
  {
   "cell_type": "code",
   "execution_count": 2,
   "metadata": {},
   "outputs": [
    {
     "data": {
      "text/plain": [
       "<QuerySet [26, 25, 24, 23, 22, 21, 20, 19, 18, 17, 16, 15, 14, 13, 12, 11, 10, 6, 5]>"
      ]
     },
     "execution_count": 2,
     "metadata": {},
     "output_type": "execute_result"
    }
   ],
   "source": [
    "# 4. Post중에서 자신의 좋아요(PostLike)가 존재하는 Post목록\n",
    "#    - Field lookup의 'isnull' 항목 참조\n",
    "Post.objects.filter(\n",
    "    postlike__isnull=False\n",
    ")\n",
    "Post.objects.exclude(\n",
    "    postlike__isnull=True\n",
    ").values_list('pk', flat=True)"
   ]
  },
  {
   "cell_type": "code",
   "execution_count": 15,
   "metadata": {},
   "outputs": [
    {
     "data": {
      "text/plain": [
       "<QuerySet [41, 40, 39, 38, 37, 36, 35, 34, 33, 32, 31, 30, 29, 27, 26, 25, 24, 23, 22, 20, '...(remaining elements truncated)...']>"
      ]
     },
     "execution_count": 15,
     "metadata": {},
     "output_type": "execute_result"
    }
   ],
   "source": [
    "# 5. Comment중에서 자신의 Post의 좋아요가 존재하는 Comment목록\n",
    "#    - Field lookup의 'isnull' 항목 참조 (위와 같음)\n",
    "PostComment.objects.filter(\n",
    "    post__postlike__isnull=False,\n",
    ").values_list('pk', flat=True).distinct()"
   ]
  },
  {
   "cell_type": "code",
   "execution_count": 42,
   "metadata": {},
   "outputs": [
    {
     "name": "stdout",
     "output_type": "stream",
     "text": [
      "{'pk': 24, 'post': 21, 'post__postlike__created': datetime.datetime(2020, 1, 15, 5, 33, 23, 48531, tzinfo=<UTC>)}\n",
      "{'pk': 24, 'post': 21, 'post__postlike__created': datetime.datetime(2020, 1, 15, 5, 33, 49, 384402, tzinfo=<UTC>)}\n",
      "{'pk': 24, 'post': 21, 'post__postlike__created': datetime.datetime(2020, 1, 15, 5, 34, 45, 564838, tzinfo=<UTC>)}\n",
      "{'pk': 24, 'post': 21, 'post__postlike__created': datetime.datetime(2020, 1, 15, 5, 37, 7, 765532, tzinfo=<UTC>)}\n"
     ]
    }
   ],
   "source": [
    "# 6. Comment중에서 자신의 Post에 속하는 가장 최근 PostLike가 3일 이후인 Comment목록\n",
    "#    - from django.utils import timezone\n",
    "#    - 현재시간은 timezone.now()로 가져올 수 있음\n",
    "from datetime import timedelta\n",
    "\n",
    "now = timezone.now()\n",
    "a_week_ago = now - timedelta(hours=2)\n",
    "\n",
    "Post.objects.filter(postlike__created__lt=a_week_ago).values('pk', 'postlike__user')\n",
    "for item in PostComment.objects.filter(\n",
    "    post__postlike__created__lt=a_week_ago\n",
    ").values('pk', 'post', 'post__postlike__created').order_by('-post__pk').filter(post__pk=21):\n",
    "    print(item)"
   ]
  },
  {
   "cell_type": "code",
   "execution_count": 41,
   "metadata": {},
   "outputs": [
    {
     "name": "stdout",
     "output_type": "stream",
     "text": [
      "{'post': 21, 'post__postlike__created': datetime.datetime(2020, 1, 15, 5, 33, 23, 48531, tzinfo=<UTC>)}\n",
      "{'post': 21, 'post__postlike__created': datetime.datetime(2020, 1, 15, 5, 33, 49, 384402, tzinfo=<UTC>)}\n",
      "{'post': 21, 'post__postlike__created': datetime.datetime(2020, 1, 15, 5, 34, 45, 564838, tzinfo=<UTC>)}\n",
      "{'post': 21, 'post__postlike__created': datetime.datetime(2020, 1, 15, 5, 37, 7, 765532, tzinfo=<UTC>)}\n",
      "{'post': 21, 'post__postlike__created': datetime.datetime(2020, 1, 15, 7, 0, 11, 591802, tzinfo=<UTC>)}\n"
     ]
    }
   ],
   "source": [
    "for item in PostComment.objects.filter(\n",
    "    post__pk=21\n",
    ").values('post', 'post__postlike__created').order_by(''):\n",
    "    print(item)"
   ]
  },
  {
   "cell_type": "code",
   "execution_count": 43,
   "metadata": {},
   "outputs": [],
   "source": [
    "# 7. 각각의 Post에 댓글이 몇 개 달렸는지 QuerySet.values()로 꺼내보기\n",
    "#    Django annotate / aggregate\n",
    "#    QuerySetAPI의 Aggregation functions의 Count()를 사용해야 함\n",
    "#    -> QuerySet.count()와 다릅니다\n",
    "#   Post.objects.annotate(<무언가>).values(<왼쪽에서한걸활용>)\n",
    "# 8. 위 기능에 성공했다면, 댓글이 3개 이상인 Post목록만 가져오기\n",
    "#   Post.objects.annotate(<무언가>).filter(<왼쪽에서한걸활용>)\n",
    "# 9. 위 기능에 성공했다면, 댓글이 3개 이상이며 댓글개수가 좋아요개수보다 많은 Post목록만 가져오기\n",
    "#   Post.objects.annotate(<무언가>).filter(<왼쪽에서한걸활용>)\n",
    "post = Post.objects.last()"
   ]
  },
  {
   "cell_type": "code",
   "execution_count": 55,
   "metadata": {},
   "outputs": [],
   "source": [
    "q1 = Post.objects.annotate(comment_count=Count('postcomment')).filter(postcomment__isnull=False).values_list('pk', 'comment_count')\n",
    "q2 = Post.objects.filter(postcomment__isnull=False).annotate(comment_count=Count('postcomment')).values_list('pk', 'comment_count')"
   ]
  },
  {
   "cell_type": "code",
   "execution_count": 56,
   "metadata": {},
   "outputs": [
    {
     "name": "stdout",
     "output_type": "stream",
     "text": [
      "SELECT \"posts_post\".\"id\", COUNT(\"posts_postcomment\".\"id\") AS \"comment_count\" FROM \"posts_post\" LEFT OUTER JOIN \"posts_postcomment\" ON (\"posts_post\".\"id\" = \"posts_postcomment\".\"post_id\") INNER JOIN \"posts_postcomment\" T3 ON (\"posts_post\".\"id\" = T3.\"post_id\") WHERE T3.\"id\" IS NOT NULL GROUP BY \"posts_post\".\"id\", \"posts_post\".\"author_id\", \"posts_post\".\"content\", \"posts_post\".\"content_html\", \"posts_post\".\"created\" ORDER BY \"posts_post\".\"id\" DESC\n",
      "SELECT \"posts_post\".\"id\", COUNT(\"posts_postcomment\".\"id\") AS \"comment_count\" FROM \"posts_post\" INNER JOIN \"posts_postcomment\" ON (\"posts_post\".\"id\" = \"posts_postcomment\".\"post_id\") WHERE \"posts_postcomment\".\"id\" IS NOT NULL GROUP BY \"posts_post\".\"id\", \"posts_post\".\"author_id\", \"posts_post\".\"content\", \"posts_post\".\"content_html\", \"posts_post\".\"created\" ORDER BY \"posts_post\".\"id\" DESC\n"
     ]
    }
   ],
   "source": [
    "print(q1.query)\n",
    "print(q2.query)"
   ]
  },
  {
   "cell_type": "code",
   "execution_count": 58,
   "metadata": {},
   "outputs": [
    {
     "data": {
      "text/plain": [
       "<QuerySet [26, 24, 19, 15, 13, 8, 7]>"
      ]
     },
     "execution_count": 58,
     "metadata": {},
     "output_type": "execute_result"
    }
   ],
   "source": [
    "Post.objects.annotate(\n",
    "    comment_count=Count('postcomment'),\n",
    ").filter(\n",
    "    comment_count__gte=3,\n",
    ").values_list('pk', flat=True)"
   ]
  },
  {
   "cell_type": "code",
   "execution_count": 71,
   "metadata": {},
   "outputs": [
    {
     "data": {
      "text/plain": [
       "<QuerySet [(28, 0), (27, 3), (26, 12), (25, 3), (24, 12), (23, 4), (22, 3), (21, 5), (20, 5), (19, 15), (18, 4), (17, 5), (16, 2), (15, 16), (14, 3), (13, 54), (12, 8), (11, 8), (10, 3), (8, 6), '...(remaining elements truncated)...']>"
      ]
     },
     "execution_count": 71,
     "metadata": {},
     "output_type": "execute_result"
    }
   ],
   "source": [
    "# 9. 위 기능에 성공했다면, 댓글이 3개 이상이며 댓글개수가 좋아요개수보다 많은 Post목록만 가져오기\n",
    "#   Post.objects.annotate(<무언가>).filter(<왼쪽에서한걸활용>)\n",
    "Post.objects.annotate(\n",
    "    comment_count=Count('postcomment'),\n",
    ").annotate(\n",
    "    like_count=Count('postlike'),\n",
    ").filter(\n",
    "#     comment_count__lte=F('like_count'),\n",
    "#     comment_count__gt=F('like_count'),\n",
    ").values_list('pk', 'like_count')"
   ]
  },
  {
   "cell_type": "code",
   "execution_count": null,
   "metadata": {},
   "outputs": [],
   "source": []
  }
 ],
 "metadata": {
  "kernelspec": {
   "display_name": "Django Shell-Plus",
   "language": "python",
   "name": "django_extensions"
  },
  "language_info": {
   "codemirror_mode": {
    "name": "ipython",
    "version": 3
   },
   "file_extension": ".py",
   "mimetype": "text/x-python",
   "name": "python",
   "nbconvert_exporter": "python",
   "pygments_lexer": "ipython3",
   "version": "3.7.5"
  }
 },
 "nbformat": 4,
 "nbformat_minor": 4
}
