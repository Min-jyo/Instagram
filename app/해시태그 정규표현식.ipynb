{
 "cells": [
  {
   "cell_type": "code",
   "execution_count": 61,
   "metadata": {},
   "outputs": [],
   "source": [
    "import re\n",
    "\n",
    "content = '''오늘은 신나는 #Django 웹프로그래밍스쿨 오는날\n",
    "#WPS#웹프로그래밍스쿨#Django #Python'''"
   ]
  },
  {
   "cell_type": "markdown",
   "metadata": {},
   "source": [
    "- #다음 아무문자 반복되는 '해시태그' 목록을 문자열 리스트로 가져오기\n",
    "    - 다음#또는 공백이 오기 전까지  \n",
    "결과: ['Django', 'WPS', '웹프로그래밍스쿨', 'Python']\n",
    "    \n",
    "- 위 해시태그에 해당하는 문자열을 '(태그: <해당문자열>)'이라는 문자로 치환하기  \n",
    "ex: 오늘은 신나는 (태그: Django) 웹프로그래밍스쿨 오는날"
   ]
  },
  {
   "cell_type": "code",
   "execution_count": 77,
   "metadata": {},
   "outputs": [
    {
     "data": {
      "text/plain": [
       "['Python', 'WPS', '웹프로그래밍스쿨', 'Django']"
      ]
     },
     "execution_count": 77,
     "metadata": {},
     "output_type": "execute_result"
    }
   ],
   "source": [
    "pattern = re.compile(r'#(\\w+)')\n",
    "list(set(re.findall(pattern, content)))"
   ]
  },
  {
   "cell_type": "code",
   "execution_count": 71,
   "metadata": {},
   "outputs": [
    {
     "data": {
      "text/plain": [
       "'오늘은 신나는 Django 웹프로그래밍스쿨 오는날\\nWPS웹프로그래밍스쿨Django Python'"
      ]
     },
     "execution_count": 71,
     "metadata": {},
     "output_type": "execute_result"
    }
   ],
   "source": [
    "re.sub(pattern, '\\g<1>', content)"
   ]
  },
  {
   "cell_type": "code",
   "execution_count": 76,
   "metadata": {},
   "outputs": [
    {
     "name": "stdout",
     "output_type": "stream",
     "text": [
      "#Django\n",
      "Django\n",
      "#WPS\n",
      "WPS\n",
      "#웹프로그래밍스쿨\n",
      "웹프로그래밍스쿨\n",
      "#Django\n",
      "Django\n",
      "#Python\n",
      "Python\n"
     ]
    }
   ],
   "source": [
    "match_list = re.finditer(pattern, content)\n",
    "for m in match_list:\n",
    "    print(m.group(0))\n",
    "    print(m.group(1))"
   ]
  },
  {
   "cell_type": "code",
   "execution_count": 6,
   "metadata": {},
   "outputs": [],
   "source": [
    "# pip install django-extensions notebook\n",
    "# python manage.py shell_plus --notebook\n",
    "post = Post.objects.first()\n",
    "post.content = '#Python #Django'\n",
    "post.save()"
   ]
  },
  {
   "cell_type": "code",
   "execution_count": 7,
   "metadata": {},
   "outputs": [
    {
     "name": "stdout",
     "output_type": "stream",
     "text": [
      "1\n",
      "#Python #Django\n"
     ]
    }
   ],
   "source": [
    "print(post.pk)\n",
    "print(post.content)"
   ]
  },
  {
   "cell_type": "code",
   "execution_count": 12,
   "metadata": {},
   "outputs": [],
   "source": [
    "import re\n",
    "\n",
    "pattern = re.compile(r'#(\\w+)')\n",
    "tag_name_list = re.findall(pattern, post.content)"
   ]
  },
  {
   "cell_type": "code",
   "execution_count": 16,
   "metadata": {},
   "outputs": [],
   "source": [
    "for tag_name in tag_name_list:\n",
    "    tag = Tag.objects.get_or_create(name=tag_name)[0]\n",
    "    post.tags.add(tag)"
   ]
  },
  {
   "cell_type": "code",
   "execution_count": 17,
   "metadata": {},
   "outputs": [
    {
     "data": {
      "text/plain": [
       "<QuerySet [<Tag: Django>, <Tag: Python>]>"
      ]
     },
     "execution_count": 17,
     "metadata": {},
     "output_type": "execute_result"
    }
   ],
   "source": [
    "post.tags.all()"
   ]
  },
  {
   "cell_type": "code",
   "execution_count": null,
   "metadata": {},
   "outputs": [],
   "source": []
  }
 ],
 "metadata": {
  "kernelspec": {
   "display_name": "Django Shell-Plus",
   "language": "python",
   "name": "django_extensions"
  },
  "language_info": {
   "codemirror_mode": {
    "name": "ipython",
    "version": 3
   },
   "file_extension": ".py",
   "mimetype": "text/x-python",
   "name": "python",
   "nbconvert_exporter": "python",
   "pygments_lexer": "ipython3",
   "version": "3.7.5"
  }
 },
 "nbformat": 4,
 "nbformat_minor": 4
}
